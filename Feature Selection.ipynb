{
 "cells": [
  {
   "cell_type": "code",
   "execution_count": 1,
   "metadata": {
    "collapsed": false
   },
   "outputs": [
    {
     "name": "stdout",
     "output_type": "stream",
     "text": [
      "Populating the interactive namespace from numpy and matplotlib\n"
     ]
    }
   ],
   "source": [
    "%pylab inline"
   ]
  },
  {
   "cell_type": "code",
   "execution_count": 2,
   "metadata": {
    "collapsed": true
   },
   "outputs": [],
   "source": [
    "import os\n",
    "import pickle\n",
    "import re\n",
    "import sys\n",
    "import matplotlib as pl\n",
    "import matplotlib.pyplot as plt\n",
    "\n",
    "numpy.random.seed(42)"
   ]
  },
  {
   "cell_type": "code",
   "execution_count": 3,
   "metadata": {
    "collapsed": true
   },
   "outputs": [],
   "source": [
    "dataPath = '/Users/omojumiller/mycode/MachineLearningNanoDegree/IntroToMachineLearning/'\n",
    "sys.path.append(dataPath+'tools/')\n",
    "sys.path.append(dataPath+'final_project/')"
   ]
  },
  {
   "cell_type": "code",
   "execution_count": 4,
   "metadata": {
    "collapsed": true
   },
   "outputs": [],
   "source": [
    "with open(dataPath+'final_project/final_project_dataset.pkl', \"r\") as data_file:\n",
    "    data_dict = pickle.load(data_file)"
   ]
  },
  {
   "cell_type": "markdown",
   "metadata": {},
   "source": [
    "\n",
    "- get email of author\n",
    "- compare to list of known persons of interest\n",
    "- return boolean if author is person of interest\n",
    "- aggregate count over all emails to person"
   ]
  },
  {
   "cell_type": "code",
   "execution_count": 5,
   "metadata": {
    "collapsed": false
   },
   "outputs": [
    {
     "name": "stdout",
     "output_type": "stream",
     "text": [
      "0.0470879801735\n"
     ]
    }
   ],
   "source": [
    "from __future__ import division\n",
    "\n",
    "data_point = data_dict['METTS MARK']\n",
    "frac = data_point[\"from_poi_to_this_person\"] / data_point[\"to_messages\"]\n",
    "print frac"
   ]
  },
  {
   "cell_type": "code",
   "execution_count": 6,
   "metadata": {
    "collapsed": true
   },
   "outputs": [],
   "source": [
    "def computeFraction( poi_messages, all_messages ):\n",
    "    \"\"\" given a number messages to/from POI (numerator) \n",
    "        and number of all messages to/from a person (denominator),\n",
    "        return the fraction of messages to/from that person\n",
    "        that are from/to a POI\n",
    "        \n",
    "   \"\"\"\n",
    "    ### you fill in this code, so that it returns either\n",
    "    ###     the fraction of all messages to this person that come from POIs\n",
    "    ###     or\n",
    "    ###     the fraction of all messages from this person that are sent to POIs\n",
    "    ### the same code can be used to compute either quantity\n",
    "\n",
    "    ### beware of \"NaN\" when there is no known email address (and so\n",
    "    ### no filled email features), and integer division!\n",
    "    ### in case of poi_messages or all_messages having \"NaN\" value, return 0.\n",
    "    \n",
    "    fraction = 0\n",
    "    \n",
    "    if poi_messages != 'NaN':\n",
    "        fraction = float(poi_messages) / float(all_messages)\n",
    "    \n",
    "\n",
    "\n",
    "    return fraction\n"
   ]
  },
  {
   "cell_type": "code",
   "execution_count": 7,
   "metadata": {
    "collapsed": false
   },
   "outputs": [
    {
     "name": "stdout",
     "output_type": "stream",
     "text": [
      "FROM METTS MARK                         0.05\n",
      "TO:  METTS MARK                         0.03\n",
      "FROM BAXTER JOHN C                      0.00\n",
      "TO:  BAXTER JOHN C                      0.00\n",
      "FROM ELLIOTT STEVEN                     0.00\n",
      "TO:  ELLIOTT STEVEN                     0.00\n",
      "FROM CORDES WILLIAM R                   0.01\n",
      "TO:  CORDES WILLIAM R                   0.00\n",
      "FROM HANNON KEVIN P                     0.03\n",
      "TO:  HANNON KEVIN P                     0.66\n",
      "FROM MORDAUNT KRISTINA M                0.00\n",
      "TO:  MORDAUNT KRISTINA M                0.00\n",
      "FROM MEYER ROCKFORD G                   0.00\n",
      "TO:  MEYER ROCKFORD G                   0.00\n",
      "FROM MCMAHON JEFFREY                    0.02\n",
      "TO:  MCMAHON JEFFREY                    0.54\n",
      "FROM HORTON STANLEY C                   0.02\n",
      "TO:  HORTON STANLEY C                   0.01\n",
      "FROM PIPER GREGORY F                    0.05\n",
      "TO:  PIPER GREGORY F                    0.22\n",
      "FROM HUMPHREY GENE E                    0.08\n",
      "TO:  HUMPHREY GENE E                    1.00\n",
      "FROM UMANOFF ADAM S                     0.11\n",
      "TO:  UMANOFF ADAM S                     0.00\n",
      "FROM BLACHMAN JEREMY M                  0.01\n",
      "TO:  BLACHMAN JEREMY M                  0.14\n",
      "FROM SUNDE MARTIN                       0.01\n",
      "TO:  SUNDE MARTIN                       0.34\n",
      "FROM GIBBS DANA R                       0.00\n",
      "TO:  GIBBS DANA R                       0.00\n",
      "FROM LOWRY CHARLES P                    0.00\n",
      "TO:  LOWRY CHARLES P                    0.00\n",
      "FROM COLWELL WESLEY                     0.14\n",
      "TO:  COLWELL WESLEY                     0.28\n",
      "FROM MULLER MARK S                      0.09\n",
      "TO:  MULLER MARK S                      0.00\n",
      "FROM JACKSON CHARLENE R                 0.10\n",
      "TO:  JACKSON CHARLENE R                 0.34\n",
      "FROM WESTFAHL RICHARD K                 0.00\n",
      "TO:  WESTFAHL RICHARD K                 0.00\n",
      "FROM WALTERS GARETH W                   0.00\n",
      "TO:  WALTERS GARETH W                   0.00\n",
      "FROM WALLS JR ROBERT H                  0.03\n",
      "TO:  WALLS JR ROBERT H                  0.00\n",
      "FROM KITCHEN LOUISE                     0.03\n",
      "TO:  KITCHEN LOUISE                     0.11\n",
      "FROM CHAN RONNIE                        0.00\n",
      "TO:  CHAN RONNIE                        0.00\n",
      "FROM BELFER ROBERT                      0.00\n",
      "TO:  BELFER ROBERT                      0.00\n",
      "FROM SHANKMAN JEFFREY A                 0.03\n",
      "TO:  SHANKMAN JEFFREY A                 0.03\n",
      "FROM WODRASKA JOHN                      0.00\n",
      "TO:  WODRASKA JOHN                      0.00\n",
      "FROM BERGSIEKER RICHARD P               0.01\n",
      "TO:  BERGSIEKER RICHARD P               0.00\n",
      "FROM URQUHART JOHN A                    0.00\n",
      "TO:  URQUHART JOHN A                    0.00\n",
      "FROM BIBI PHILIPPE A                    0.01\n",
      "TO:  BIBI PHILIPPE A                    0.20\n",
      "FROM RIEKER PAULA H                     0.03\n",
      "TO:  RIEKER PAULA H                     0.59\n",
      "FROM WHALEY DAVID A                     0.00\n",
      "TO:  WHALEY DAVID A                     0.00\n",
      "FROM BECK SALLY W                       0.02\n",
      "TO:  BECK SALLY W                       0.09\n",
      "FROM HAUG DAVID L                       0.01\n",
      "TO:  HAUG DAVID L                       0.37\n",
      "FROM ECHOLS JOHN B                      0.00\n",
      "TO:  ECHOLS JOHN B                      0.00\n",
      "FROM MENDELSOHN JOHN                    0.00\n",
      "TO:  MENDELSOHN JOHN                    0.00\n",
      "FROM HICKERSON GARY J                   0.03\n",
      "TO:  HICKERSON GARY J                   0.04\n",
      "FROM CLINE KENNETH W                    0.00\n",
      "TO:  CLINE KENNETH W                    0.00\n",
      "FROM LEWIS RICHARD                      0.01\n",
      "TO:  LEWIS RICHARD                      0.00\n",
      "FROM HAYES ROBERT E                     0.03\n",
      "TO:  HAYES ROBERT E                     0.00\n",
      "FROM MCCARTY DANNY J                    0.02\n",
      "TO:  MCCARTY DANNY J                    0.01\n",
      "FROM KOPPER MICHAEL J                   0.00\n",
      "TO:  KOPPER MICHAEL J                   0.00\n",
      "FROM LEFF DANIEL P                      0.02\n",
      "TO:  LEFF DANIEL P                      0.22\n",
      "FROM LAVORATO JOHN J                    0.07\n",
      "TO:  LAVORATO JOHN J                    0.16\n",
      "FROM BERBERIAN DAVID                    0.00\n",
      "TO:  BERBERIAN DAVID                    0.00\n",
      "FROM DETMERING TIMOTHY J                0.00\n",
      "TO:  DETMERING TIMOTHY J                0.00\n",
      "FROM WAKEHAM JOHN                       0.00\n",
      "TO:  WAKEHAM JOHN                       0.00\n",
      "FROM POWERS WILLIAM                     0.00\n",
      "TO:  POWERS WILLIAM                     0.00\n",
      "FROM GOLD JOSEPH                        0.00\n",
      "TO:  GOLD JOSEPH                        0.00\n",
      "FROM BANNANTINE JAMES M                 0.07\n",
      "TO:  BANNANTINE JAMES M                 0.00\n",
      "FROM DUNCAN JOHN H                      0.00\n",
      "TO:  DUNCAN JOHN H                      0.00\n",
      "FROM SHAPIRO RICHARD S                  0.00\n",
      "TO:  SHAPIRO RICHARD S                  0.05\n",
      "FROM SHERRIFF JOHN R                    0.01\n",
      "TO:  SHERRIFF JOHN R                    0.25\n",
      "FROM SHELBY REX                         0.06\n",
      "TO:  SHELBY REX                         0.36\n",
      "FROM LEMAISTRE CHARLES                  0.00\n",
      "TO:  LEMAISTRE CHARLES                  0.00\n",
      "FROM DEFFNER JOSEPH M                   0.16\n",
      "TO:  DEFFNER JOSEPH M                   0.05\n",
      "FROM KISHKILL JOSEPH G                  0.00\n",
      "TO:  KISHKILL JOSEPH G                  0.00\n",
      "FROM WHALLEY LAWRENCE G                 0.03\n",
      "TO:  WHALLEY LAWRENCE G                 0.04\n",
      "FROM MCCONNELL MICHAEL S                0.03\n",
      "TO:  MCCONNELL MICHAEL S                0.07\n",
      "FROM PIRO JIM                           0.00\n",
      "TO:  PIRO JIM                           0.06\n",
      "FROM DELAINEY DAVID W                   0.02\n",
      "TO:  DELAINEY DAVID W                   0.20\n",
      "FROM SULLIVAN-SHAKLOVITZ COLLEEN        0.00\n",
      "TO:  SULLIVAN-SHAKLOVITZ COLLEEN        0.00\n",
      "FROM WROBEL BRUCE                       0.00\n",
      "TO:  WROBEL BRUCE                       0.00\n",
      "FROM LINDHOLM TOD A                     0.00\n",
      "TO:  LINDHOLM TOD A                     0.00\n",
      "FROM MEYER JEROME J                     0.00\n",
      "TO:  MEYER JEROME J                     0.00\n",
      "FROM LAY KENNETH L                      0.03\n",
      "TO:  LAY KENNETH L                      0.44\n",
      "FROM BUTTS ROBERT H                     0.00\n",
      "TO:  BUTTS ROBERT H                     0.00\n",
      "FROM OLSON CINDY K                      0.02\n",
      "TO:  OLSON CINDY K                      0.29\n",
      "FROM MCDONALD REBECCA                   0.06\n",
      "TO:  MCDONALD REBECCA                   0.08\n",
      "FROM CUMBERLAND MICHAEL S               0.00\n",
      "TO:  CUMBERLAND MICHAEL S               0.00\n",
      "FROM GAHN ROBERT S                      0.00\n",
      "TO:  GAHN ROBERT S                      0.00\n",
      "FROM MCCLELLAN GEORGE                   0.03\n",
      "TO:  MCCLELLAN GEORGE                   0.00\n",
      "FROM HERMANN ROBERT J                   0.00\n",
      "TO:  HERMANN ROBERT J                   0.00\n",
      "FROM SCRIMSHAW MATTHEW                  0.00\n",
      "TO:  SCRIMSHAW MATTHEW                  0.00\n",
      "FROM GATHMANN WILLIAM D                 0.00\n",
      "TO:  GATHMANN WILLIAM D                 0.00\n",
      "FROM HAEDICKE MARK E                    0.04\n",
      "TO:  HAEDICKE MARK E                    0.03\n",
      "FROM BOWEN JR RAYMOND M                 0.08\n",
      "TO:  BOWEN JR RAYMOND M                 0.56\n",
      "FROM GILLIS JOHN                        0.00\n",
      "TO:  GILLIS JOHN                        0.00\n",
      "FROM FITZGERALD JAY L                   0.00\n",
      "TO:  FITZGERALD JAY L                   0.50\n",
      "FROM MORAN MICHAEL P                    0.00\n",
      "TO:  MORAN MICHAEL P                    0.00\n",
      "FROM REDMOND BRIAN L                    0.12\n",
      "TO:  REDMOND BRIAN L                    0.22\n",
      "FROM BAZELIDES PHILIP J                 0.00\n",
      "TO:  BAZELIDES PHILIP J                 0.00\n",
      "FROM BELDEN TIMOTHY N                   0.03\n",
      "TO:  BELDEN TIMOTHY N                   0.22\n",
      "FROM DURAN WILLIAM D                    0.12\n",
      "TO:  DURAN WILLIAM D                    0.25\n",
      "FROM THORN TERENCE H                    0.00\n",
      "TO:  THORN TERENCE H                    0.00\n",
      "FROM FASTOW ANDREW S                    0.00\n",
      "TO:  FASTOW ANDREW S                    0.00\n",
      "FROM FOY JOE                            0.00\n",
      "TO:  FOY JOE                            0.00\n",
      "FROM CALGER CHRISTOPHER F               0.08\n",
      "TO:  CALGER CHRISTOPHER F               0.17\n",
      "FROM RICE KENNETH D                     0.05\n",
      "TO:  RICE KENNETH D                     0.22\n",
      "FROM KAMINSKI WINCENTY J                0.01\n",
      "TO:  KAMINSKI WINCENTY J                0.01\n",
      "FROM LOCKHART EUGENE E                  0.00\n",
      "TO:  LOCKHART EUGENE E                  0.00\n",
      "FROM COX DAVID                          0.00\n",
      "TO:  COX DAVID                          0.12\n",
      "FROM OVERDYKE JR JERE C                 0.00\n",
      "TO:  OVERDYKE JR JERE C                 0.00\n",
      "FROM PEREIRA PAULO V. FERRAZ            0.00\n",
      "TO:  PEREIRA PAULO V. FERRAZ            0.00\n",
      "FROM STABLER FRANK                      0.00\n",
      "TO:  STABLER FRANK                      0.00\n",
      "FROM SKILLING JEFFREY K                 0.02\n",
      "TO:  SKILLING JEFFREY K                 0.28\n",
      "FROM BLAKE JR. NORMAN P                 0.00\n",
      "TO:  BLAKE JR. NORMAN P                 0.00\n",
      "FROM SHERRICK JEFFREY B                 0.06\n",
      "TO:  SHERRICK JEFFREY B                 0.72\n",
      "FROM PRENTICE JAMES                     0.00\n",
      "TO:  PRENTICE JAMES                     0.00\n",
      "FROM GRAY RODNEY                        0.00\n",
      "TO:  GRAY RODNEY                        0.00\n",
      "FROM PICKERING MARK R                   0.01\n",
      "TO:  PICKERING MARK R                   0.00\n",
      "FROM THE TRAVEL AGENCY IN THE PARK      0.00\n",
      "TO:  THE TRAVEL AGENCY IN THE PARK      0.00\n",
      "FROM NOLES JAMES L                      0.00\n",
      "TO:  NOLES JAMES L                      0.00\n",
      "FROM KEAN STEVEN J                      0.01\n",
      "TO:  KEAN STEVEN J                      0.06\n",
      "FROM TOTAL                              0.00\n",
      "TO:  TOTAL                              0.00\n",
      "FROM FOWLER PEGGY                       0.00\n",
      "TO:  FOWLER PEGGY                       0.00\n",
      "FROM WASAFF GEORGE                      0.06\n",
      "TO:  WASAFF GEORGE                      0.23\n",
      "FROM WHITE JR THOMAS E                  0.00\n",
      "TO:  WHITE JR THOMAS E                  0.00\n",
      "FROM CHRISTODOULOU DIOMEDES             0.00\n",
      "TO:  CHRISTODOULOU DIOMEDES             0.00\n",
      "FROM ALLEN PHILLIP K                    0.02\n",
      "TO:  ALLEN PHILLIP K                    0.03\n",
      "FROM SHARP VICTORIA T                   0.01\n",
      "TO:  SHARP VICTORIA T                   0.04\n",
      "FROM JAEDICKE ROBERT                    0.00\n",
      "TO:  JAEDICKE ROBERT                    0.00\n",
      "FROM WINOKUR JR. HERBERT S              0.00\n",
      "TO:  WINOKUR JR. HERBERT S              0.00\n",
      "FROM BROWN MICHAEL                      0.01\n",
      "TO:  BROWN MICHAEL                      0.02\n",
      "FROM BADUM JAMES P                      0.00\n",
      "TO:  BADUM JAMES P                      0.00\n",
      "FROM HUGHES JAMES A                     0.05\n",
      "TO:  HUGHES JAMES A                     0.15\n",
      "FROM REYNOLDS LAWRENCE                  0.00\n",
      "TO:  REYNOLDS LAWRENCE                  0.00\n",
      "FROM DIMICHELE RICHARD G                0.00\n",
      "TO:  DIMICHELE RICHARD G                0.00\n",
      "FROM BHATNAGAR SANJAY                   0.00\n",
      "TO:  BHATNAGAR SANJAY                   0.03\n",
      "FROM CARTER REBECCA C                   0.09\n",
      "TO:  CARTER REBECCA C                   0.47\n",
      "FROM BUCHANAN HAROLD G                  0.00\n",
      "TO:  BUCHANAN HAROLD G                  0.00\n",
      "FROM YEAP SOON                          0.00\n",
      "TO:  YEAP SOON                          0.00\n",
      "FROM MURRAY JULIA H                     0.01\n",
      "TO:  MURRAY JULIA H                     0.04\n",
      "FROM GARLAND C KEVIN                    0.05\n",
      "TO:  GARLAND C KEVIN                    0.61\n",
      "FROM DODSON KEITH                       0.06\n",
      "TO:  DODSON KEITH                       0.21\n",
      "FROM YEAGER F SCOTT                     0.00\n",
      "TO:  YEAGER F SCOTT                     0.00\n",
      "FROM HIRKO JOSEPH                       0.00\n",
      "TO:  HIRKO JOSEPH                       0.00\n",
      "FROM DIETRICH JANET R                   0.12\n",
      "TO:  DIETRICH JANET R                   0.22\n",
      "FROM DERRICK JR. JAMES V                0.03\n",
      "TO:  DERRICK JR. JAMES V                0.02\n",
      "FROM FREVERT MARK A                     0.07\n",
      "TO:  FREVERT MARK A                     0.29\n",
      "FROM PAI LOU L                          0.00\n",
      "TO:  PAI LOU L                          0.00\n",
      "FROM BAY FRANKLIN R                     0.00\n",
      "TO:  BAY FRANKLIN R                     0.00\n",
      "FROM HAYSLETT RODERICK J                0.01\n",
      "TO:  HAYSLETT RODERICK J                0.04\n",
      "FROM FUGH JOHN L                        0.00\n",
      "TO:  FUGH JOHN L                        0.00\n",
      "FROM FALLON JAMES B                     0.02\n",
      "TO:  FALLON JAMES B                     0.49\n",
      "FROM KOENIG MARK E                      0.02\n",
      "TO:  KOENIG MARK E                      0.25\n",
      "FROM SAVAGE FRANK                       0.00\n",
      "TO:  SAVAGE FRANK                       0.00\n",
      "FROM IZZO LAWRENCE L                    0.06\n",
      "TO:  IZZO LAWRENCE L                    0.26\n",
      "FROM TILNEY ELIZABETH A                 0.02\n",
      "TO:  TILNEY ELIZABETH A                 0.58\n",
      "FROM MARTIN AMANDA K                    0.01\n",
      "TO:  MARTIN AMANDA K                    0.00\n",
      "FROM BUY RICHARD B                      0.04\n",
      "TO:  BUY RICHARD B                      0.07\n",
      "FROM GRAMM WENDY L                      0.00\n",
      "TO:  GRAMM WENDY L                      0.00\n",
      "FROM CAUSEY RICHARD A                   0.03\n",
      "TO:  CAUSEY RICHARD A                   0.24\n",
      "FROM TAYLOR MITCHELL S                  0.00\n",
      "TO:  TAYLOR MITCHELL S                  0.00\n",
      "FROM DONAHUE JR JEFFREY M               0.22\n",
      "TO:  DONAHUE JR JEFFREY M               0.50\n",
      "FROM GLISAN JR BEN F                    0.06\n",
      "TO:  GLISAN JR BEN F                    0.38\n"
     ]
    }
   ],
   "source": [
    "  \n",
    "submit_dict = {}\n",
    "for name in data_dict:\n",
    "\n",
    "    data_point = data_dict[name]\n",
    "\n",
    "    from_poi_to_this_person = data_point[\"from_poi_to_this_person\"]\n",
    "    to_messages = data_point[\"to_messages\"]\n",
    "    fraction_from_poi = computeFraction( from_poi_to_this_person, to_messages )\n",
    "    #print fraction_from_poi\n",
    "    print'{:5}{:35}{:.2f}'.format('FROM ', name, fraction_from_poi)\n",
    "    data_point[\"fraction_from_poi\"] = fraction_from_poi\n",
    "\n",
    "\n",
    "    from_this_person_to_poi = data_point[\"from_this_person_to_poi\"]\n",
    "    from_messages = data_point[\"from_messages\"]\n",
    "    fraction_to_poi = computeFraction( from_this_person_to_poi, from_messages )\n",
    "    #print fraction_to_poi\n",
    "    print'{:5}{:35}{:.2f}'.format('TO: ', name, fraction_to_poi)\n",
    "    submit_dict[name]={\"from_poi_to_this_person\":fraction_from_poi,\n",
    "                       \"from_this_person_to_poi\":fraction_to_poi}\n",
    "    data_point[\"fraction_to_poi\"] = fraction_to_poi\n",
    "    \n",
    "    \n",
    "#####################\n",
    "\n",
    "def submitDict():\n",
    "    return submit_dict\n"
   ]
  },
  {
   "cell_type": "markdown",
   "metadata": {},
   "source": [
    "## Beware of BUGS!!!\n",
    "\n",
    "When Katie was working on the Enron POI identifier, she engineered a feature that identified when a given person was on the same email as a POI. So for example, if Ken Lay and Katie Malone are both recipients of the same email message, then Katie Malone should have her \"shared receipt\" feature incremented. If she shares lots of emails with POIs, maybe she's a POI herself.\n",
    "\n",
    "Here's the problem: there was a subtle bug, that Ken Lay's \"shared receipt\" counter would also be incremented when this happens. And of course, then Ken Lay always shares receipt with a POI, because he is a POI. So the \"shared receipt\" feature became extremely powerful in finding POIs, because it effectively was encoding the label for each person as a feature.\n",
    "\n",
    "We found this first by being suspicious of a classifier that was always returning 100% accuracy. Then we removed features one at a time, and found that this feature was driving all the performance. Then, digging back through the feature code, we found the bug outlined above. We changed the code so that a person's \"shared receipt\" feature was only incremented if there was a different POI who received the email, reran the code, and tried again. The accuracy dropped to a more reasonable level.\n",
    "\n",
    "We take a couple of lessons from this:\n",
    "- Anyone can make mistakes--be skeptical of your results!\n",
    "- 100% accuracy should generally make you suspicious. Extraordinary claims require extraordinary proof.\n",
    "- If there's a feature that tracks your labels a little too closely, it's very likely a bug!\n",
    "- If you're sure it's not a bug, you probably don't need machine learning--you can just use that feature alone to assign labels."
   ]
  },
  {
   "cell_type": "markdown",
   "metadata": {},
   "source": [
    "## Feature Selection Mini Project"
   ]
  },
  {
   "cell_type": "code",
   "execution_count": 16,
   "metadata": {
    "collapsed": false
   },
   "outputs": [],
   "source": [
    "sys.path.append(dataPath+'text_learning/')\n",
    "\n",
    "words_file = \"your_word_data.pkl\" \n",
    "authors_file = \"your_email_authors.pkl\"\n",
    "word_data = pickle.load( open(words_file, \"r\"))\n",
    "authors = pickle.load( open(authors_file, \"r\") )"
   ]
  },
  {
   "cell_type": "code",
   "execution_count": 17,
   "metadata": {
    "collapsed": false
   },
   "outputs": [],
   "source": [
    "### test_size is the percentage of events assigned to the test set (the\n",
    "### remainder go into training)\n",
    "### feature matrices changed to dense representations for compatibility with\n",
    "### classifier functions in versions 0.15.2 and earlier\n",
    "\n",
    "from sklearn import cross_validation\n",
    "features_train, features_test, labels_train, labels_test = cross_validation.train_test_split(word_data, \n",
    "                                                                            authors, test_size=0.1, random_state=42)\n"
   ]
  },
  {
   "cell_type": "code",
   "execution_count": 18,
   "metadata": {
    "collapsed": true
   },
   "outputs": [],
   "source": [
    "from sklearn.feature_extraction.text import TfidfVectorizer\n",
    "vectorizer = TfidfVectorizer(sublinear_tf=True, max_df=0.5, stop_words='english')\n",
    "features_train = vectorizer.fit_transform(features_train)\n",
    "features_test  = vectorizer.transform(features_test).toarray()"
   ]
  },
  {
   "cell_type": "code",
   "execution_count": 19,
   "metadata": {
    "collapsed": true
   },
   "outputs": [],
   "source": [
    "### a classic way to overfit is to use a small number\n",
    "### of data points and a large number of features;\n",
    "### train on only 150 events to put ourselves in this regime\n",
    "\n",
    "features_train = features_train[:150].toarray()\n",
    "labels_train   = labels_train[:150]"
   ]
  },
  {
   "cell_type": "code",
   "execution_count": 20,
   "metadata": {
    "collapsed": false
   },
   "outputs": [
    {
     "name": "stdout",
     "output_type": "stream",
     "text": [
      "Classifier accurancy: 0.81\n"
     ]
    }
   ],
   "source": [
    "from sklearn import tree\n",
    "\n",
    "clf = tree.DecisionTreeClassifier()\n",
    "clf.fit(features_train, labels_train)\n",
    "\n",
    "print\"{}{:.2f}\".format(\"Classifier accurancy: \", clf.score(features_test, labels_test))"
   ]
  },
  {
   "cell_type": "code",
   "execution_count": 23,
   "metadata": {
    "collapsed": false
   },
   "outputs": [
    {
     "name": "stdout",
     "output_type": "stream",
     "text": [
      "21323: 0.363636\n",
      "18849: 0.186927\n",
      "11975: 0.105379\n",
      "22546: 0.084069\n",
      "29690: 0.067581\n",
      "16267: 0.047407\n",
      "15331: 0.042667\n",
      "16440: 0.026280\n",
      "37406: 0.025529\n",
      "15560: 0.024810\n",
      "32494: 0.013714\n",
      "19196: 0.012000\n"
     ]
    }
   ],
   "source": [
    "import operator\n",
    "\n",
    "featuresImportance =  clf.feature_importances_\n",
    "featuresSortedByScore = []\n",
    "\n",
    "for feature in range(len(featuresImportance)):\n",
    "    if featuresImportance[feature] > 0.:\n",
    "        featuresSortedByScore.append([feature, featuresImportance[feature]])\n",
    "        \n",
    "df = sorted(featuresSortedByScore, key=operator.itemgetter(1), reverse=True)\n",
    "\n",
    "for i in range(len(df)):\n",
    "    print \"{:5d}: {:f}\".format(df[i][0], df[i][1])"
   ]
  },
  {
   "cell_type": "code",
   "execution_count": 24,
   "metadata": {
    "collapsed": false
   },
   "outputs": [
    {
     "name": "stdout",
     "output_type": "stream",
     "text": [
      "houectect\n",
      "fax\n",
      "attach\n",
      "isda\n",
      "pleas\n",
      "deal\n",
      "contact\n",
      "deliveri\n",
      "wwwpsacom\n",
      "counterparti\n",
      "send\n",
      "floor\n"
     ]
    }
   ],
   "source": [
    "for i in range(len(df)):\n",
    "    print vectorizer.get_feature_names()[df[i][0]]"
   ]
  },
  {
   "cell_type": "code",
   "execution_count": null,
   "metadata": {
    "collapsed": true
   },
   "outputs": [],
   "source": []
  }
 ],
 "metadata": {
  "kernelspec": {
   "display_name": "Python 2",
   "language": "python",
   "name": "python2"
  },
  "language_info": {
   "codemirror_mode": {
    "name": "ipython",
    "version": 2
   },
   "file_extension": ".py",
   "mimetype": "text/x-python",
   "name": "python",
   "nbconvert_exporter": "python",
   "pygments_lexer": "ipython2",
   "version": "2.7.11"
  }
 },
 "nbformat": 4,
 "nbformat_minor": 0
}
