{
 "cells": [
  {
   "cell_type": "markdown",
   "metadata": {},
   "source": [
    "## Lesson 3 - Decision Trees"
   ]
  },
  {
   "cell_type": "code",
   "execution_count": 8,
   "metadata": {
    "collapsed": false
   },
   "outputs": [
    {
     "name": "stdout",
     "output_type": "stream",
     "text": [
      "rm: /Users/omojumiller/.matplotlib/fontList.cache: No such file or directory\r\n"
     ]
    }
   ],
   "source": [
    "import sys\n",
    "from time import time\n",
    "sys.path.append(\"../tools/\")\n",
    "sys.path.append(\"../naive bayes/\")\n",
    "from prep_terrain_data import makeTerrainData\n",
    "\n",
    "import matplotlib as pl\n",
    "font_cache_path = pl.get_cachedir() + '/fontList.cache'\n",
    "%rm $font_cache_path\n",
    "\n",
    "from class_vis import prettyPicture, output_image\n",
    "\n",
    "\n",
    "\n",
    "%matplotlib inline"
   ]
  },
  {
   "cell_type": "code",
   "execution_count": 9,
   "metadata": {
    "collapsed": false
   },
   "outputs": [],
   "source": [
    "import matplotlib.pyplot as plt\n",
    "import numpy as np\n",
    "import pylab as pl"
   ]
  },
  {
   "cell_type": "code",
   "execution_count": 10,
   "metadata": {
    "collapsed": false
   },
   "outputs": [],
   "source": [
    "### features_train and features_test are the features for the training\n",
    "### and testing datasets, respectively\n",
    "### labels_train and labels_test are the corresponding item labels\n",
    "features_train, labels_train, features_test, labels_test = makeTerrainData()"
   ]
  },
  {
   "cell_type": "code",
   "execution_count": 11,
   "metadata": {
    "collapsed": false
   },
   "outputs": [
    {
     "name": "stdout",
     "output_type": "stream",
     "text": [
      "done in 0.002s\n"
     ]
    }
   ],
   "source": [
    "from sklearn import tree\n",
    "\n",
    "\n",
    "#features_train = features_train[:len(features_train)/100] \n",
    "#labels_train = labels_train[:len(labels_train)/100]\n",
    "\n",
    "features_train, labels_train, features_test, labels_test = makeTerrainData()\n",
    "\n",
    "#parameters = {'kernel':('linear', 'rbf'), 'C':[10, 100, 1000, 10000]}\n",
    "clf = tree.DecisionTreeClassifier()\n",
    "t0 = time()\n",
    "clf.fit(features_train, labels_train)\n",
    "print(\"done in %0.3fs\" % (time() - t0))\n"
   ]
  },
  {
   "cell_type": "code",
   "execution_count": 12,
   "metadata": {
    "collapsed": true
   },
   "outputs": [],
   "source": [
    "##############################################################\n",
    "def submitAcc():\n",
    "    return clf.score(features_test, labels_test)"
   ]
  },
  {
   "cell_type": "code",
   "execution_count": 13,
   "metadata": {
    "collapsed": false
   },
   "outputs": [
    {
     "name": "stdout",
     "output_type": "stream",
     "text": [
      "Classifier with accurancy 91.20%\n"
     ]
    }
   ],
   "source": [
    "pred = clf.predict(features_test)\n",
    "print \"Classifier with accurancy %.2f%%\" % (submitAcc() * 100)\n",
    "\n",
    "\n"
   ]
  },
  {
   "cell_type": "code",
   "execution_count": 14,
   "metadata": {
    "collapsed": false
   },
   "outputs": [
    {
     "data": {
      "image/png": "[encoded data removed]",
      "text/plain": [
       "<matplotlib.figure.Figure at 0x1041adbd0>"
      ]
     },
     "metadata": {},
     "output_type": "display_data"
    }
   ],
   "source": [
    "prettyPicture(clf, features_test, labels_test)"
   ]
  },
  {
   "cell_type": "markdown",
   "metadata": {},
   "source": [
    "This decision tree seems to be overfitting the data. Lets plot the training points instead of the test points to explore what is going on."
   ]
  },
  {
   "cell_type": "code",
   "execution_count": null,
   "metadata": {
    "collapsed": false
   },
   "outputs": [],
   "source": [
    "prettyPicture(clf, features_train, labels_train)"
   ]
  },
  {
   "cell_type": "markdown",
   "metadata": {},
   "source": [
    "### Tweak parameters\n",
    "We will tweak ```min_sample_split``` parameter so we can adjust our classifier to not overfit. This gives us the minimum number of samples that must be in a population inorder to split it."
   ]
  },
  {
   "cell_type": "code",
   "execution_count": null,
   "metadata": {
    "collapsed": false
   },
   "outputs": [],
   "source": [
    "clf = tree.DecisionTreeClassifier(min_samples_split=50)\n",
    "t0 = time()\n",
    "clf.fit(features_train, labels_train)\n",
    "print(\"done in %0.3fs\" % (time() - t0))"
   ]
  },
  {
   "cell_type": "code",
   "execution_count": null,
   "metadata": {
    "collapsed": false
   },
   "outputs": [],
   "source": [
    "pred = clf.predict(features_test)\n",
    "print \"Classifier with accurancy %.2f%%\" % (submitAcc() * 100)\n",
    "prettyPicture(clf, features_test, labels_test)"
   ]
  },
  {
   "cell_type": "markdown",
   "metadata": {},
   "source": [
    "## Decision Tree Mini Project"
   ]
  },
  {
   "cell_type": "code",
   "execution_count": null,
   "metadata": {
    "collapsed": true
   },
   "outputs": [],
   "source": [
    "from email_preprocess import preprocess"
   ]
  },
  {
   "cell_type": "code",
   "execution_count": null,
   "metadata": {
    "collapsed": false
   },
   "outputs": [],
   "source": [
    "### features_train and features_test are the features for the training\n",
    "### and testing datasets, respectively\n",
    "### labels_train and labels_test are the corresponding item labels\n",
    "features_train, features_test, labels_train, labels_test = preprocess()\n"
   ]
  },
  {
   "cell_type": "markdown",
   "metadata": {},
   "source": [
    "#### Part 1: Get the Decision Tree Running\n",
    "Get the decision tree up and running as a classifier, setting ```min_samples_split=40```.  ** It will probably take a while to train.**  What’s the accuracy?\n",
    "\n",
    "#### Answer\n",
    "Accuracy of the classifier is **97.90%**\n"
   ]
  },
  {
   "cell_type": "code",
   "execution_count": null,
   "metadata": {
    "collapsed": false
   },
   "outputs": [],
   "source": [
    "from sklearn import tree\n",
    "\n",
    "def submitAcc():\n",
    "    return clf.score(features_test, labels_test)\n",
    "\n",
    "\n",
    "clf = tree.DecisionTreeClassifier(min_samples_split=40)\n",
    "t0 = time()\n",
    "clf.fit(features_train, labels_train)\n",
    "print(\"done in %0.3fs\" % (time() - t0))\n",
    "\n",
    "\n",
    "\n",
    "pred = clf.predict(features_test)\n",
    "print \"Classifier with accurancy %.2f%%\" % (submitAcc() * 100)"
   ]
  },
  {
   "cell_type": "markdown",
   "metadata": {},
   "source": [
    "#### Part 2: Speed It Up\n",
    "You found in the SVM mini-project that the parameter tune can significantly speed up the training time of a machine learning algorithm.  A general rule is that the parameters can tune the complexity of the algorithm, with more complex algorithms generally running more slowly.  \n",
    "\n",
    "Another way to control the complexity of an algorithm is via the number of features that you use in training/testing.  The more features the algorithm has available, the more potential there is for a complex fit.  We will explore this in detail in the “Feature Selection” lesson, but you’ll get a sneak preview now.\n",
    "\n",
    "- find the number of features in your data.  The data is organized into a numpy array where the number of rows is the number of data points and the number of columns is the number of features; so to extract this number, use a line of code like ```len(features_train[0])```\n",
    "\n"
   ]
  },
  {
   "cell_type": "code",
   "execution_count": null,
   "metadata": {
    "collapsed": false
   },
   "outputs": [],
   "source": [
    "print \"Number of data points in the data %d\" % len(features_train)\n",
    "print \"Number of features in the data %d \" % len(features_train[3])"
   ]
  },
  {
   "cell_type": "markdown",
   "metadata": {},
   "source": [
    "Go into tools/email_preprocess.py, and find the line of code that looks like this:     \n",
    "```selector = SelectPercentile(f_classif, percentile=1)``` Change percentile from 10 to 1.\n",
    "\n",
    "What’s the number of features now?\n",
    "#### Answer\n",
    "- 379 "
   ]
  },
  {
   "cell_type": "code",
   "execution_count": null,
   "metadata": {
    "collapsed": true
   },
   "outputs": [],
   "source": [
    "import sys\n",
    "from time import time\n",
    "sys.path.append(\"../tools/\")\n",
    "from email_preprocess import preprocess"
   ]
  },
  {
   "cell_type": "code",
   "execution_count": null,
   "metadata": {
    "collapsed": false
   },
   "outputs": [],
   "source": [
    "features_train, features_test, labels_train, labels_test = preprocess()"
   ]
  },
  {
   "cell_type": "code",
   "execution_count": null,
   "metadata": {
    "collapsed": false
   },
   "outputs": [],
   "source": [
    "print \"Number of data points in the data %d\" % len(features_train)\n",
    "print \"Number of features in the data %d \" % len(features_train[3])"
   ]
  },
  {
   "cell_type": "markdown",
   "metadata": {},
   "source": [
    "\n",
    "What do you think ```SelectPercentile``` is doing?  Would a large value for percentile lead to a more complex or less complex decision tree, all other things being equal?\n",
    "\n",
    "#### Answer\n",
    " - I think a large value for percentile would lead to a more complex decision tree. \n",
    " \n",
    "Note the difference in training time depending on the number of features.  \n",
    "\n",
    "#### Answer\n",
    "- training time went down significantly with less features.\n",
    "\n",
    "What’s the accuracy when percentile = 1?\n",
    "\n",
    "#### Answer\n",
    "- Accuracy of the prediction with ```percentile = 1 ``` is **96.70%**"
   ]
  },
  {
   "cell_type": "code",
   "execution_count": null,
   "metadata": {
    "collapsed": false
   },
   "outputs": [],
   "source": [
    "from sklearn import tree\n",
    "\n",
    "def submitAcc():\n",
    "    return clf.score(features_test, labels_test)\n",
    "\n",
    "\n",
    "clf = tree.DecisionTreeClassifier(min_samples_split=40)\n",
    "t0 = time()\n",
    "clf.fit(features_train, labels_train)\n",
    "print(\"done in %0.3fs\" % (time() - t0))\n",
    "\n",
    "\n",
    "\n",
    "pred = clf.predict(features_test)\n",
    "print \"Classifier with accurancy %.2f%%\" % (submitAcc() * 100)"
   ]
  },
  {
   "cell_type": "code",
   "execution_count": null,
   "metadata": {
    "collapsed": true
   },
   "outputs": [],
   "source": []
  }
 ],
 "metadata": {
  "kernelspec": {
   "display_name": "Python 2",
   "language": "python",
   "name": "python2"
  },
  "language_info": {
   "codemirror_mode": {
    "name": "ipython",
    "version": 2
   },
   "file_extension": ".py",
   "mimetype": "text/x-python",
   "name": "python",
   "nbconvert_exporter": "python",
   "pygments_lexer": "ipython2",
   "version": "2.7.11"
  }
 },
 "nbformat": 4,
 "nbformat_minor": 0
}
