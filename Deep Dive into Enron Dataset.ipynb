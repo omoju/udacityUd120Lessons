{
 "cells": [
  {
   "cell_type": "markdown",
   "metadata": {},
   "source": [
    "## Lesson 5 - Deep Dive into the Enron Dataset"
   ]
  },
  {
   "cell_type": "code",
   "execution_count": 1,
   "metadata": {
    "collapsed": false
   },
   "outputs": [
    {
     "name": "stdout",
     "output_type": "stream",
     "text": [
      "Populating the interactive namespace from numpy and matplotlib\n"
     ]
    }
   ],
   "source": [
    "%pylab inline"
   ]
  },
  {
   "cell_type": "code",
   "execution_count": 2,
   "metadata": {
    "collapsed": false
   },
   "outputs": [],
   "source": [
    "import sys\n",
    "from time import time\n",
    "sys.path.append(\"../tools/\")\n",
    "sys.path.append(\"../naive bayes/\")\n",
    "sys.path.append(\"../datasets_questions/\")\n",
    "sys.path.append(\"../final_project/\")\n",
    "\n",
    "import explore_enron_data as eD\n",
    "from feature_format import featureFormat, targetFeatureSplit\n"
   ]
  },
  {
   "cell_type": "markdown",
   "metadata": {},
   "source": [
    "### What is a Person Of Interest? (POI)\n",
    "- Indicted\n",
    "- Testified for immunity\n",
    "- Settled without admitting guilt"
   ]
  },
  {
   "cell_type": "code",
   "execution_count": 3,
   "metadata": {
    "collapsed": false
   },
   "outputs": [],
   "source": [
    "import matplotlib as pl\n"
   ]
  },
  {
   "cell_type": "markdown",
   "metadata": {},
   "source": [
    "#### How many data points (people) are in the dataset?"
   ]
  },
  {
   "cell_type": "code",
   "execution_count": 4,
   "metadata": {
    "collapsed": false
   },
   "outputs": [],
   "source": [
    "_ = eD.enron_data"
   ]
  },
  {
   "cell_type": "code",
   "execution_count": 5,
   "metadata": {
    "collapsed": false
   },
   "outputs": [
    {
     "name": "stdout",
     "output_type": "stream",
     "text": [
      "There are 146 many people in the dataset.\n"
     ]
    }
   ],
   "source": [
    "print \"There are %d many people in the dataset.\" % len(eD.enron_data.keys())"
   ]
  },
  {
   "cell_type": "markdown",
   "metadata": {},
   "source": [
    "#### For each person, how many features are available?\n"
   ]
  },
  {
   "cell_type": "code",
   "execution_count": 6,
   "metadata": {
    "collapsed": false
   },
   "outputs": [
    {
     "name": "stdout",
     "output_type": "stream",
     "text": [
      "21\n"
     ]
    },
    {
     "data": {
      "text/plain": [
       "['salary',\n",
       " 'to_messages',\n",
       " 'deferral_payments',\n",
       " 'total_payments',\n",
       " 'exercised_stock_options',\n",
       " 'bonus',\n",
       " 'restricted_stock',\n",
       " 'shared_receipt_with_poi',\n",
       " 'restricted_stock_deferred',\n",
       " 'total_stock_value',\n",
       " 'expenses',\n",
       " 'loan_advances',\n",
       " 'from_messages',\n",
       " 'other',\n",
       " 'from_this_person_to_poi',\n",
       " 'poi',\n",
       " 'director_fees',\n",
       " 'deferred_income',\n",
       " 'long_term_incentive',\n",
       " 'email_address',\n",
       " 'from_poi_to_this_person']"
      ]
     },
     "execution_count": 6,
     "metadata": {},
     "output_type": "execute_result"
    }
   ],
   "source": [
    "print len(eD.enron_data['METTS MARK'].keys())\n",
    "eD.enron_data['METTS MARK'].keys()"
   ]
  },
  {
   "cell_type": "markdown",
   "metadata": {},
   "source": [
    "#### The “poi” feature records whether the person is a person of interest, according to our definition. \n",
    "How many POIs are there in the E+F dataset?"
   ]
  },
  {
   "cell_type": "code",
   "execution_count": 7,
   "metadata": {
    "collapsed": false
   },
   "outputs": [
    {
     "name": "stdout",
     "output_type": "stream",
     "text": [
      "HANNON KEVIN P\n",
      "COLWELL WESLEY\n",
      "RIEKER PAULA H\n",
      "KOPPER MICHAEL J\n",
      "SHELBY REX\n",
      "DELAINEY DAVID W\n",
      "LAY KENNETH L\n",
      "BOWEN JR RAYMOND M\n",
      "BELDEN TIMOTHY N\n",
      "FASTOW ANDREW S\n",
      "CALGER CHRISTOPHER F\n",
      "RICE KENNETH D\n",
      "SKILLING JEFFREY K\n",
      "YEAGER F SCOTT\n",
      "HIRKO JOSEPH\n",
      "KOENIG MARK E\n",
      "CAUSEY RICHARD A\n",
      "GLISAN JR BEN F\n",
      "There are 18 POIs in the dataset\n"
     ]
    }
   ],
   "source": [
    "eD.enron_data['METTS MARK']['poi']\n",
    "\n",
    "poiCount = 0\n",
    "for person in eD.enron_data:\n",
    "    if eD.enron_data[person]['poi']:\n",
    "        poiCount += 1\n",
    "        print person\n",
    "    \n",
    "print \"There are %d POIs in the dataset\" % poiCount"
   ]
  },
  {
   "cell_type": "markdown",
   "metadata": {},
   "source": [
    "#### How many POI’s were there total?\n",
    "\n",
    "We compiled a list of all POI names (in ../final_project/poi_names.txt) and associated email addresses (in ../final_project/poi_email_addresses.py).\n",
    "\n",
    "How many POI’s were there total? (Use the names file, not the email addresses, since many folks have more than one address and a few didn’t work for Enron, so we don’t have their emails.)\n",
    "\n"
   ]
  },
  {
   "cell_type": "code",
   "execution_count": 8,
   "metadata": {
    "collapsed": false
   },
   "outputs": [
    {
     "name": "stdout",
     "output_type": "stream",
     "text": [
      "(y) Lay, Kenneth\n",
      "\n",
      "(y) Skilling, Jeffrey\n",
      "\n",
      "(y) Forney, John\n",
      "\n",
      "(y) Delainey, David\n",
      "\n",
      "There are 4 POIs in the dataset\n"
     ]
    }
   ],
   "source": [
    "import re\n",
    "poiCount = 0\n",
    "\n",
    "f = open('../final_project/poi_names.txt', 'r')\n",
    "try:\n",
    "    for line in f:\n",
    "        m = re.search('^\\(y\\)', line )\n",
    "        if m:\n",
    "            print line\n",
    "            poiCount += 1\n",
    "            \n",
    "finally:\n",
    "    f.close()\n",
    "    \n",
    "print \"There are %d POIs in the dataset\" % poiCount"
   ]
  },
  {
   "cell_type": "markdown",
   "metadata": {},
   "source": [
    "#### What is the total value of the stock belonging to James Prentice?"
   ]
  },
  {
   "cell_type": "code",
   "execution_count": 9,
   "metadata": {
    "collapsed": false
   },
   "outputs": [
    {
     "data": {
      "text/plain": [
       "1095040"
      ]
     },
     "execution_count": 9,
     "metadata": {},
     "output_type": "execute_result"
    }
   ],
   "source": [
    "eD.enron_data['PRENTICE JAMES']['total_stock_value']"
   ]
  },
  {
   "cell_type": "markdown",
   "metadata": {},
   "source": [
    "#### How many email messages do we have from Wesley Colwell to persons of interest?"
   ]
  },
  {
   "cell_type": "code",
   "execution_count": 10,
   "metadata": {
    "collapsed": false
   },
   "outputs": [
    {
     "data": {
      "text/plain": [
       "11"
      ]
     },
     "execution_count": 10,
     "metadata": {},
     "output_type": "execute_result"
    }
   ],
   "source": [
    "eD.enron_data['COLWELL WESLEY']['from_this_person_to_poi']"
   ]
  },
  {
   "cell_type": "code",
   "execution_count": 11,
   "metadata": {
    "collapsed": false
   },
   "outputs": [
    {
     "data": {
      "text/plain": [
       "19250000"
      ]
     },
     "execution_count": 11,
     "metadata": {},
     "output_type": "execute_result"
    }
   ],
   "source": [
    "eD.enron_data['SKILLING JEFFREY K']['exercised_stock_options']"
   ]
  },
  {
   "cell_type": "markdown",
   "metadata": {},
   "source": [
    "#### Of these three individuals (Lay, Skilling and Fastow), who took home the most money (largest value of “total_payments” feature)?\n",
    "\n",
    "How much money did that person get?"
   ]
  },
  {
   "cell_type": "code",
   "execution_count": 12,
   "metadata": {
    "collapsed": false
   },
   "outputs": [
    {
     "name": "stdout",
     "output_type": "stream",
     "text": [
      "8682716\n",
      "103559793\n",
      "2424083\n"
     ]
    }
   ],
   "source": [
    "print eD.enron_data['SKILLING JEFFREY K']['total_payments']\n",
    "print eD.enron_data['LAY KENNETH L']['total_payments']\n",
    "print eD.enron_data['FASTOW ANDREW S']['total_payments']"
   ]
  },
  {
   "cell_type": "code",
   "execution_count": 13,
   "metadata": {
    "collapsed": false
   },
   "outputs": [
    {
     "name": "stdout",
     "output_type": "stream",
     "text": [
      "There are 95 persons in the dataset with a quantified salary\n"
     ]
    }
   ],
   "source": [
    "pCount = 0\n",
    "for person in eD.enron_data:\n",
    "    if eD.enron_data[person]['salary'] != \"NaN\":\n",
    "        pCount += 1\n",
    "        #print person, eD.enron_data[person]['salary']\n",
    "    \n",
    "print \"There are %d persons in the dataset with a quantified salary\" % pCount"
   ]
  },
  {
   "cell_type": "code",
   "execution_count": 14,
   "metadata": {
    "collapsed": false
   },
   "outputs": [
    {
     "name": "stdout",
     "output_type": "stream",
     "text": [
      "There are 111 persons in the dataset with a known email address\n"
     ]
    }
   ],
   "source": [
    "pCount = 0\n",
    "for person in eD.enron_data:\n",
    "    if eD.enron_data[person]['email_address'] != \"NaN\":\n",
    "        pCount += 1\n",
    "        #print person, eD.enron_data[person]['email_address']\n",
    "    \n",
    "print \"There are %d persons in the dataset with a known email address\" % pCount"
   ]
  },
  {
   "cell_type": "markdown",
   "metadata": {},
   "source": [
    "#### How many people in the E+F dataset (as it currently exists) have “NaN” for their total payments? What percentage of people in the dataset as a whole is this?"
   ]
  },
  {
   "cell_type": "code",
   "execution_count": 15,
   "metadata": {
    "collapsed": false
   },
   "outputs": [
    {
     "name": "stdout",
     "output_type": "stream",
     "text": [
      "CORDES WILLIAM R NaN\n",
      "LOWRY CHARLES P NaN\n",
      "CHAN RONNIE NaN\n",
      "WHALEY DAVID A NaN\n",
      "CLINE KENNETH W NaN\n",
      "LEWIS RICHARD NaN\n",
      "MCCARTY DANNY J NaN\n",
      "POWERS WILLIAM NaN\n",
      "PIRO JIM NaN\n",
      "WROBEL BRUCE NaN\n",
      "MCDONALD REBECCA NaN\n",
      "SCRIMSHAW MATTHEW NaN\n",
      "GATHMANN WILLIAM D NaN\n",
      "GILLIS JOHN NaN\n",
      "MORAN MICHAEL P NaN\n",
      "LOCKHART EUGENE E NaN\n",
      "SHERRICK JEFFREY B NaN\n",
      "FOWLER PEGGY NaN\n",
      "CHRISTODOULOU DIOMEDES NaN\n",
      "HUGHES JAMES A NaN\n",
      "HAYSLETT RODERICK J NaN\n",
      "There are 21 persons in have “NaN” for their total payments\n"
     ]
    }
   ],
   "source": [
    "pCount = 0\n",
    "for person in eD.enron_data:\n",
    "    if eD.enron_data[person]['total_payments'] == \"NaN\":\n",
    "        pCount += 1\n",
    "        print person, eD.enron_data[person]['total_payments']\n",
    "    \n",
    "print \"There are %d persons in have “NaN” for their total payments\" % pCount"
   ]
  },
  {
   "cell_type": "code",
   "execution_count": 16,
   "metadata": {
    "collapsed": false
   },
   "outputs": [],
   "source": [
    "import pandas as pd\n",
    "import random\n",
    "import csv\n",
    "\n",
    "csvfile = 'adult.data'\n",
    "df = pd.read_csv(csvfile, header=None,skipinitialspace = True)\n",
    "columns = ['age','workclass','fnlwgt','education','education_num','marital_status',\n",
    "           'occupation','relationship','race','sex','capital_gain','capital_loss',\n",
    "           'hours_per_week','native_country','salary'] \n",
    "df.columns = columns"
   ]
  },
  {
   "cell_type": "code",
   "execution_count": 17,
   "metadata": {
    "collapsed": false
   },
   "outputs": [],
   "source": [
    "# generate data for regression with line equation\n",
    "# y = (6.25)x + 0\n",
    "\n",
    "def makeSalary():\n",
    "    m = 6.25\n",
    "    return (m + random.random()) * df['age']\n",
    "\n",
    "    \n",
    "X = df['age']\n",
    "y = df['salary'].replace(['<=50K','>50K'],[makeSalary(),makeSalary()])\n",
    "\n"
   ]
  },
  {
   "cell_type": "code",
   "execution_count": 18,
   "metadata": {
    "collapsed": true
   },
   "outputs": [],
   "source": [
    "from sklearn import cross_validation\n",
    "\n",
    "ages_train, ages_test, net_worths_train, net_worths_test = cross_validation.train_test_split(X, y, test_size=0.3)"
   ]
  },
  {
   "cell_type": "code",
   "execution_count": 19,
   "metadata": {
    "collapsed": false
   },
   "outputs": [],
   "source": [
    "ages_test = ages_test.reshape(-1, 1)\n",
    "net_worths_test = net_worths_test.reshape(-1, 1)\n",
    "ages_train =  ages_train.reshape(-1, 1)\n",
    "net_worths_train = net_worths_train.reshape(-1, 1)"
   ]
  },
  {
   "cell_type": "code",
   "execution_count": 20,
   "metadata": {
    "collapsed": false
   },
   "outputs": [
    {
     "name": "stdout",
     "output_type": "stream",
     "text": [
      "Omoju's net worth prediction $229.77k\n",
      "slope of regression is 6.35\n",
      "intercepts of regression is 1.25\n"
     ]
    },
    {
     "data": {
      "image/png": "[encoded data removed]",
      "text/plain": [
       "<matplotlib.figure.Figure at 0x109de7750>"
      ]
     },
     "metadata": {},
     "output_type": "display_data"
    }
   ],
   "source": [
    "import numpy\n",
    "import matplotlib\n",
    "\n",
    "import matplotlib.pyplot as plt\n",
    "from class_vis import prettyPicture, output_image\n",
    "\n",
    "%matplotlib inline\n",
    "\n",
    " \n",
    "\n",
    "def studentReg(ages_train, net_worths_train):\n",
    "    from sklearn import linear_model\n",
    "    reg = linear_model.LinearRegression()\n",
    "    \n",
    "    # Reshape data using X.reshape(-1, 1) since data has a single feature or X.\n",
    "    return reg.fit(ages_train.reshape(-1, 1), net_worths_train.reshape(-1, 1))\n",
    "\n",
    "\n",
    "reg = studentReg(ages_train, net_worths_train)\n",
    "print \"Omoju's net worth prediction $%.2fk\" % reg.predict([[36]])\n",
    "print \"slope of regression is %.2f\" % reg.coef_\n",
    "print \"intercepts of regression is %.2f\" % reg.intercept_\n",
    "\n",
    "\n",
    "plt.clf()\n",
    "plt.scatter(ages_train, net_worths_train, color=\"b\", label=\"train data\")\n",
    "plt.scatter(ages_test, net_worths_test, color=\"r\", label=\"test data\")\n",
    "plt.plot(ages_test, reg.predict(ages_test), color=\"black\")\n",
    "plt.legend(loc=2)\n",
    "plt.xlabel(\"ages\")\n",
    "plt.ylabel(\"net worths\")\n",
    "plt.show()\n",
    "    "
   ]
  },
  {
   "cell_type": "code",
   "execution_count": 21,
   "metadata": {
    "collapsed": false
   },
   "outputs": [
    {
     "name": "stdout",
     "output_type": "stream",
     "text": [
      "\n",
      " ********stats on dataset********\n",
      "\n",
      "r-squared score on testing data:  0.998532888784\n",
      "r-squared score on training data:  0.998553902441\n"
     ]
    }
   ],
   "source": [
    "print \"\\n ********stats on dataset********\\n\"\n",
    "print \"r-squared score on testing data: \", reg.score(ages_test, net_worths_test)\n",
    "print \"r-squared score on training data: \", reg.score(ages_train, net_worths_train)"
   ]
  },
  {
   "cell_type": "code",
   "execution_count": 22,
   "metadata": {
    "collapsed": false
   },
   "outputs": [
    {
     "name": "stdout",
     "output_type": "stream",
     "text": [
      "\n",
      " ********Regression on salary to predict bonus ********\n",
      "\n"
     ]
    },
    {
     "data": {
      "image/png": "[encoded data removed]",
      "text/plain": [
       "<matplotlib.figure.Figure at 0x11426ce10>"
      ]
     },
     "metadata": {},
     "output_type": "display_data"
    },
    {
     "name": "stdout",
     "output_type": "stream",
     "text": [
      "slope of regression is 5.45\n",
      "intercepts of regression is -102360.54\n",
      "\n",
      " ********stats on dataset********\n",
      "\n",
      "r-squared score on testing data:  -1.48499241737\n",
      "r-squared score on training data:  0.0455091926995\n"
     ]
    }
   ],
   "source": [
    "\"\"\"\n",
    "    Starter code for the regression mini-project.\n",
    "    \n",
    "    Loads up/formats a modified version of the dataset\n",
    "    (why modified?  we've removed some trouble points\n",
    "    that you'll find yourself in the outliers mini-project).\n",
    "\n",
    "    Draws a little scatterplot of the training/testing data\n",
    "\n",
    "    You fill in the regression code where indicated:\n",
    "\"\"\"    \n",
    "\n",
    "\n",
    "import sys\n",
    "import pickle\n",
    "sys.path.append(\"../tools/\")\n",
    "from feature_format import featureFormat, targetFeatureSplit\n",
    "dictionary = pickle.load( open(\"../final_project/final_project_dataset_modified.pkl\", \"r\") )\n",
    "\n",
    "### list the features you want to look at--first item in the \n",
    "### list will be the \"target\" feature\n",
    "\n",
    "print \"\\n ********Regression on salary to predict bonus ********\\n\"\n",
    "\n",
    "features_list = [\"bonus\", \"salary\"]\n",
    "data = featureFormat( dictionary, features_list, remove_any_zeroes=True)\n",
    "target, features = targetFeatureSplit( data )\n",
    "\n",
    "### training-testing split needed in regression, just like classification\n",
    "from sklearn.cross_validation import train_test_split\n",
    "feature_train, feature_test, target_train, target_test = train_test_split(features, \n",
    "                                            target, test_size=0.5, random_state=42)\n",
    "train_color = \"b\"\n",
    "test_color = \"r\"\n",
    "\n",
    "\n",
    "\n",
    "### Your regression goes here!\n",
    "### Please name it reg, so that the plotting code below picks it up and \n",
    "### plots it correctly. Don't forget to change the test_color above from \"b\" to\n",
    "### \"r\" to differentiate training points from test points.\n",
    "\n",
    "from sklearn import linear_model\n",
    "reg = linear_model.LinearRegression()\n",
    "reg.fit(feature_train, target_train)\n",
    "\n",
    "\n",
    "### draw the scatterplot, with color-coded training and testing points\n",
    "import matplotlib.pyplot as plt\n",
    "for feature, target in zip(feature_test, target_test):\n",
    "    plt.scatter( feature, target, color=test_color ) \n",
    "for feature, target in zip(feature_train, target_train):\n",
    "    plt.scatter( feature, target, color=train_color ) \n",
    "\n",
    "### labels for the legend\n",
    "plt.scatter(feature_test[0], target_test[0], color=test_color, label=\"test\")\n",
    "plt.scatter(feature_test[0], target_test[0], color=train_color, label=\"train\")\n",
    "\n",
    "\n",
    "\n",
    "\n",
    "### draw the regression line, once it's coded\n",
    "try:\n",
    "    plt.plot( feature_test, reg.predict(feature_test) )\n",
    "except NameError:\n",
    "    pass\n",
    "\n",
    "\n",
    "plt.xlabel(features_list[1])\n",
    "plt.ylabel(features_list[0])\n",
    "plt.legend()\n",
    "plt.show()\n",
    "\n",
    "print \"slope of regression is %.2f\" % reg.coef_\n",
    "print \"intercepts of regression is %.2f\" % reg.intercept_\n",
    "\n",
    "print \"\\n ********stats on dataset********\\n\"\n",
    "print \"r-squared score on testing data: \", reg.score(feature_test, target_test)\n",
    "print \"r-squared score on training data: \", reg.score(feature_train, target_train)\n",
    "\n"
   ]
  },
  {
   "cell_type": "markdown",
   "metadata": {},
   "source": [
    "An r-squared score of -1.48499241737 is pretty bad. \n",
    "\n",
    "There are lots of finance features available, some of which might be more powerful than others in terms of predicting a person’s bonus. For example, suppose you thought about the data a bit and guess that the ```long_term_incentive``` feature, which is supposed to reward employees for contributing to the long-term health of the company, might be more closely related to a person’s bonus than their salary is.\n",
    "\n",
    "A way to confirm that you’re right in this hypothesis is to regress the bonus against the long term incentive, and see if the regression score is significantly higher than regressing the bonus against the salary. **Perform the regression of bonus against long term incentive--what’s the score on the test data?**\n",
    "\n"
   ]
  },
  {
   "cell_type": "code",
   "execution_count": 23,
   "metadata": {
    "collapsed": false
   },
   "outputs": [
    {
     "name": "stdout",
     "output_type": "stream",
     "text": [
      "\n",
      " ********Regression on long_term_incentive to predict bonus ********\n",
      "\n"
     ]
    },
    {
     "data": {
      "image/png": "[encoded data removed]",
      "text/plain": [
       "<matplotlib.figure.Figure at 0x11837bbd0>"
      ]
     },
     "metadata": {},
     "output_type": "display_data"
    },
    {
     "name": "stdout",
     "output_type": "stream",
     "text": [
      "slope of regression is 1.19\n",
      "intercepts of regression is 554478.76\n",
      "\n",
      " ********stats on dataset********\n",
      "\n",
      "r-squared score on testing data:  -0.59271289995\n",
      "r-squared score on training data:  0.217085971258\n"
     ]
    }
   ],
   "source": [
    "print \"\\n ********Regression on long_term_incentive to predict bonus ********\\n\"\n",
    "\n",
    "\n",
    "features_list = [\"bonus\", \"long_term_incentive\"]\n",
    "data = featureFormat( dictionary, features_list, remove_any_zeroes=True)\n",
    "target, features = targetFeatureSplit( data )\n",
    "\n",
    "### training-testing split needed in regression, just like classification\n",
    "from sklearn.cross_validation import train_test_split\n",
    "feature_train, feature_test, target_train, target_test = train_test_split(\n",
    "    features, target, test_size=0.5, random_state=42)\n",
    "train_color = \"b\"\n",
    "test_color = \"r\"\n",
    "\n",
    "\n",
    "from sklearn import linear_model\n",
    "reg = linear_model.LinearRegression()\n",
    "reg.fit(feature_train, target_train)\n",
    "\n",
    "\n",
    "\n",
    "### draw the scatterplot, with color-coded training and testing points\n",
    "import matplotlib.pyplot as plt\n",
    "for feature, target in zip(feature_test, target_test):\n",
    "    plt.scatter( feature, target, color=test_color ) \n",
    "for feature, target in zip(feature_train, target_train):\n",
    "    plt.scatter( feature, target, color=train_color ) \n",
    "\n",
    "### labels for the legend\n",
    "plt.scatter(feature_test[0], target_test[0], color=test_color, label=\"test\")\n",
    "plt.scatter(feature_test[0], target_test[0], color=train_color, label=\"train\")\n",
    "\n",
    "\n",
    "\n",
    "\n",
    "### draw the regression line, once it's coded\n",
    "try:\n",
    "    plt.plot( feature_test, reg.predict(feature_test) )\n",
    "except NameError:\n",
    "    pass\n",
    "plt.xlabel(features_list[1])\n",
    "plt.ylabel(features_list[0])\n",
    "plt.legend()\n",
    "plt.show()\n",
    "\n",
    "print \"slope of regression is %.2f\" % reg.coef_\n",
    "print \"intercepts of regression is %.2f\" % reg.intercept_\n",
    "\n",
    "print \"\\n ********stats on dataset********\\n\"\n",
    "print \"r-squared score on testing data: \", reg.score(feature_test, target_test)\n",
    "print \"r-squared score on training data: \", reg.score(feature_train, target_train)"
   ]
  },
  {
   "cell_type": "markdown",
   "metadata": {},
   "source": [
    "**Go back to a setup where you are using the salary to predict the bonus, and rerun the code to remind yourself of what the data look like.** You might notice a few data points that fall outside the main trend, someone who gets a high salary (over a million dollars!) but a relatively small bonus. This is an example of an outlier, and we’ll spend lots of time on them in the next lesson.\n",
    "\n",
    "A point like this can have a big effect on a regression: if it falls in the training set, it can have a significant effect on the slope/intercept if it falls in the test set, it can make the score much lower than it would otherwise be as things stand right now, this point falls into the test set (and probably hurting the score on our test data as a result). Let’s add a little hack to see what happens if it falls in the training set instead. Add these two lines near the bottom right before ```plt.xlabel(features_list[1]):```\n",
    "\n",
    "```python\n",
    "reg.fit(feature_test, target_test)\n",
    "plt.plot(feature_train, reg.predict(feature_train), color=\"b\")\n",
    "```\n",
    "\n",
    "Now we’ll be drawing two regression lines, one fit on the test data (with outlier) and one fit on the training data (no outlier). Look at the plot now--big difference, huh? That single outlier is driving most of the difference. **What’s the slope of the new regression line?**\n",
    "\n",
    "(That’s a big difference, and it’s mostly driven by the outliers.)"
   ]
  },
  {
   "cell_type": "code",
   "execution_count": 24,
   "metadata": {
    "collapsed": false
   },
   "outputs": [
    {
     "name": "stdout",
     "output_type": "stream",
     "text": [
      "\n",
      " ********Regression on salary to predict exercised_stock_options, cleaned for Outliers ********\n",
      "\n"
     ]
    },
    {
     "data": {
      "image/png": "[encoded data removed]",
      "text/plain": [
       "<matplotlib.figure.Figure at 0x1187010d0>"
      ]
     },
     "metadata": {},
     "output_type": "display_data"
    },
    {
     "name": "stdout",
     "output_type": "stream",
     "text": [
      "slope of regression is 0.00\n",
      "intercepts of regression is 257889.52\n",
      "\n",
      " ********stats on dataset********\n",
      "\n",
      "r-squared score on testing data:  0.00436584208953\n",
      "r-squared score on training data:  0.00605083898368\n"
     ]
    }
   ],
   "source": [
    "import sys\n",
    "import pickle\n",
    "sys.path.append(\"../tools/\")\n",
    "from feature_format import featureFormat, targetFeatureSplit\n",
    "dictionary = pickle.load( open(\"../final_project/final_project_dataset_modified.pkl\", \"r\") )\n",
    "\n",
    "### list the features you want to look at--first item in the \n",
    "### list will be the \"target\" feature\n",
    "\n",
    "print \"\\n ********Regression on salary to predict exercised_stock_options, cleaned for Outliers ********\\n\"\n",
    "\n",
    "features_list = [\"salary\", \"exercised_stock_options\"]\n",
    "data = featureFormat( dictionary, features_list, remove_any_zeroes=True)\n",
    "target, features = targetFeatureSplit( data )\n",
    "\n",
    "### training-testing split needed in regression, just like classification\n",
    "from sklearn.cross_validation import train_test_split\n",
    "feature_train, feature_test, target_train, target_test = train_test_split(\n",
    "    features, target, test_size=0.5, random_state=42)\n",
    "train_color = \"b\"\n",
    "test_color = \"r\"\n",
    "\n",
    "\n",
    "\n",
    "### Your regression goes here!\n",
    "### Please name it reg, so that the plotting code below picks it up and \n",
    "### plots it correctly. Don't forget to change the test_color above from \"b\" to\n",
    "### \"r\" to differentiate training points from test points.\n",
    "\n",
    "from sklearn import linear_model\n",
    "reg = linear_model.LinearRegression()\n",
    "reg.fit(feature_train, target_train)\n",
    "\n",
    "\n",
    "### draw the scatterplot, with color-coded training and testing points\n",
    "import matplotlib.pyplot as plt\n",
    "for feature, target in zip(feature_test, target_test):\n",
    "    plt.scatter( feature, target, color=test_color ) \n",
    "for feature, target in zip(feature_train, target_train):\n",
    "    plt.scatter( feature, target, color=train_color ) \n",
    "\n",
    "### labels for the legend\n",
    "plt.scatter(feature_test[0], target_test[0], color=test_color, label=\"test\")\n",
    "plt.scatter(feature_test[0], target_test[0], color=train_color, label=\"train\")\n",
    "\n",
    "\n",
    "### draw the regression line, once it's coded\n",
    "try:\n",
    "    plt.plot( feature_test, reg.predict(feature_test) )\n",
    "except NameError:\n",
    "    pass\n",
    "\n",
    "reg.fit(feature_test, target_test)\n",
    "plt.plot(feature_train, reg.predict(feature_train), color=\"b\") \n",
    "\n",
    "plt.xlabel(features_list[1])\n",
    "plt.ylabel(features_list[0])\n",
    "plt.legend()\n",
    "plt.show()\n",
    "\n",
    "print \"slope of regression is %.2f\" % reg.coef_\n",
    "print \"intercepts of regression is %.2f\" % reg.intercept_\n",
    "\n",
    "print \"\\n ********stats on dataset********\\n\"\n",
    "print \"r-squared score on testing data: \", reg.score(feature_test, target_test)\n",
    "print \"r-squared score on training data: \", reg.score(feature_train, target_train)\n"
   ]
  },
  {
   "cell_type": "code",
   "execution_count": null,
   "metadata": {
    "collapsed": true
   },
   "outputs": [],
   "source": []
  }
 ],
 "metadata": {
  "kernelspec": {
   "display_name": "Python 2",
   "language": "python",
   "name": "python2"
  },
  "language_info": {
   "codemirror_mode": {
    "name": "ipython",
    "version": 2
   },
   "file_extension": ".py",
   "mimetype": "text/x-python",
   "name": "python",
   "nbconvert_exporter": "python",
   "pygments_lexer": "ipython2",
   "version": "2.7.11"
  }
 },
 "nbformat": 4,
 "nbformat_minor": 0
}
