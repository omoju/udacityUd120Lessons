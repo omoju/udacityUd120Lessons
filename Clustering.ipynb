{
 "cells": [
  {
   "cell_type": "code",
   "execution_count": 8,
   "metadata": {
    "collapsed": false
   },
   "outputs": [
    {
     "name": "stdout",
     "output_type": "stream",
     "text": [
      "Populating the interactive namespace from numpy and matplotlib\n"
     ]
    }
   ],
   "source": [
    "%pylab inline"
   ]
  },
  {
   "cell_type": "code",
   "execution_count": 9,
   "metadata": {
    "collapsed": true
   },
   "outputs": [],
   "source": [
    "import pickle\n",
    "import numpy\n",
    "import matplotlib.pyplot as plt\n",
    "import sys\n",
    "sys.path.append(\"../tools/\")\n",
    "from feature_format import featureFormat, targetFeatureSplit"
   ]
  },
  {
   "cell_type": "code",
   "execution_count": 27,
   "metadata": {
    "collapsed": true
   },
   "outputs": [],
   "source": [
    "def Draw(pred, features, poi, mark_poi=False, name=\"image.png\", f1_name=\"feature 1\", f2_name=\"feature 2\"):\n",
    "    \"\"\" some plotting code designed to help you visualize your clusters \"\"\"\n",
    "\n",
    "    ### plot each cluster with a different color--add more colors for\n",
    "    ### drawing more than five clusters\n",
    "    colors = [\"b\", \"c\", \"k\", \"m\", \"g\"]\n",
    "    for ii, pp in enumerate(pred):\n",
    "        plt.scatter(features[ii][0], features[ii][1], color = colors[pred[ii]])\n",
    "\n",
    "    ### if you like, place red stars over points that are POIs (just for funsies)\n",
    "    if mark_poi:\n",
    "        for ii, pp in enumerate(pred):\n",
    "            if poi[ii]:\n",
    "                plt.scatter(features[ii][0], features[ii][1], color=\"r\", marker=\"*\")\n",
    "    plt.xlabel(f1_name)\n",
    "    plt.ylabel(f2_name)\n",
    "    plt.grid(True)\n",
    "    plt.title('Clustering of '+f1_name.upper()+' against '+f2_name.upper())\n",
    "    plt.savefig(name)\n",
    "    plt.show()\n"
   ]
  },
  {
   "cell_type": "code",
   "execution_count": 28,
   "metadata": {
    "collapsed": false
   },
   "outputs": [],
   "source": [
    "### load in the dict of dicts containing all the data on each person in the dataset\n",
    "filepath = '../../MachineLearningProjects/identifyFraudFromEnronEmail/'\n",
    "data_dict = pickle.load( open(filepath+'cleaned_dataset.pkl', \"r\") )\n"
   ]
  },
  {
   "cell_type": "code",
   "execution_count": 29,
   "metadata": {
    "collapsed": true
   },
   "outputs": [],
   "source": [
    "### the input features we want to use \n",
    "### can be any key in the person-level dictionary (salary, director_fees, etc.) \n",
    "feature_1 = \"salary\"\n",
    "feature_2 = \"exercised_stock_options\"\n",
    "poi  = \"poi\"\n",
    "features_list = [poi, feature_1, feature_2] #\n",
    "data = featureFormat(data_dict, features_list )\n",
    "poi, finance_features = targetFeatureSplit( data )"
   ]
  },
  {
   "cell_type": "code",
   "execution_count": 30,
   "metadata": {
    "collapsed": false
   },
   "outputs": [
    {
     "data": {
      "image/png": "[encoded data removed]",
      "text/plain": [
       "<matplotlib.figure.Figure at 0x10c9c4b90>"
      ]
     },
     "metadata": {},
     "output_type": "display_data"
    }
   ],
   "source": [
    "### in the \"clustering with 3 features\" part of the mini-project,\n",
    "### you'll want to change this line to \n",
    "### for f1, f2, _ in finance_features:\n",
    "### (as it's currently written, the line below assumes 2 features)\n",
    "for f1, f2, in finance_features:\n",
    "    plt.scatter( f1, f2 )\n",
    "    plt.grid(True)\n",
    "    plt.title(f1_name.upper()+' against '+f2_name.upper())\n",
    "plt.show()"
   ]
  },
  {
   "cell_type": "code",
   "execution_count": 20,
   "metadata": {
    "collapsed": false
   },
   "outputs": [
    {
     "name": "stdout",
     "output_type": "stream",
     "text": [
      "124\n",
      "124\n"
     ]
    }
   ],
   "source": [
    "y = numpy.asarray(poi)\n",
    "print len(y.reshape(-1, 1))\n",
    "print len(finance_features)"
   ]
  },
  {
   "cell_type": "code",
   "execution_count": 25,
   "metadata": {
    "collapsed": false
   },
   "outputs": [],
   "source": [
    "### cluster here; create predictions of the cluster labels\n",
    "### for the data and store them to a list called pred\n",
    "\n",
    "from sklearn.cluster import KMeans\n",
    "km = KMeans(n_clusters=5, n_init=10, max_iter=300)\n",
    "km.fit(finance_features)\n",
    "pred = km.predict(finance_features)\n"
   ]
  },
  {
   "cell_type": "code",
   "execution_count": 26,
   "metadata": {
    "collapsed": false
   },
   "outputs": [
    {
     "data": {
      "image/png": "[encoded data removed]",
      "text/plain": [
       "<matplotlib.figure.Figure at 0x10f9b2a90>"
      ]
     },
     "metadata": {},
     "output_type": "display_data"
    }
   ],
   "source": [
    "### rename the \"name\" parameter when you change the number of features\n",
    "### so that the figure gets saved to a different file\n",
    "try:\n",
    "    Draw(pred, finance_features, poi, mark_poi=False, name=\"clusters3.pdf\", f1_name=feature_1, f2_name=feature_2)\n",
    "except NameError:\n",
    "    print \"no predictions object named pred found, no clusters to plot\""
   ]
  },
  {
   "cell_type": "code",
   "execution_count": 10,
   "metadata": {
    "collapsed": false
   },
   "outputs": [],
   "source": [
    "### Find min/max values to help with feature scaling\n",
    "\n",
    "def findMinMaxFeature(feature):\n",
    "    temp = []\n",
    "\n",
    "    for key, value in data_dict.iteritems():\n",
    "        if (data_dict[key][feature] != \"NaN\"):\n",
    "            temp.append(data_dict[key][feature])\n",
    "        else:\n",
    "            continue\n",
    "\n",
    "    print \"{:17}${:>12,.2f}{:18}${:<12,.2f}\".format('Max value of '+feature+' is ', max(temp),\n",
    "                                                    '\\nMin value of '+feature+' is ', min(temp))\n"
   ]
  },
  {
   "cell_type": "code",
   "execution_count": 11,
   "metadata": {
    "collapsed": false
   },
   "outputs": [
    {
     "name": "stdout",
     "output_type": "stream",
     "text": [
      "Max value of salary is $1,111,258.00\n",
      "Min value of salary is $477.00      \n",
      "Max value of exercised_stock_options is $34,348,384.00\n",
      "Min value of exercised_stock_options is $3,285.00    \n"
     ]
    }
   ],
   "source": [
    "findMinMaxFeature('salary')\n",
    "findMinMaxFeature('exercised_stock_options')"
   ]
  },
  {
   "cell_type": "markdown",
   "metadata": {},
   "source": [
    "## Feature Rescaling"
   ]
  },
  {
   "cell_type": "code",
   "execution_count": 12,
   "metadata": {
    "collapsed": false
   },
   "outputs": [
    {
     "name": "stdout",
     "output_type": "stream",
     "text": [
      "[0.0, 0.41666666666666669, 1.0]\n"
     ]
    }
   ],
   "source": [
    "### Min/Max rescaler\n",
    "\n",
    "from __future__ import division\n",
    "\n",
    "def featureScaling(arr):\n",
    "    \n",
    "    import numpy\n",
    "    \n",
    "    \n",
    "    y = numpy.asarray(arr)\n",
    "    min = y.min()\n",
    "    max = y.max()\n",
    "    for i in range(len(y)):\n",
    "        arr[i] = (y[i] - min) / (max - min)\n",
    "\n",
    "    return arr\n",
    "\n",
    "# tests of your feature scaler--line below is input data\n",
    "data = [115, 140, 175]\n",
    "print featureScaling(data)\n"
   ]
  },
  {
   "cell_type": "code",
   "execution_count": 18,
   "metadata": {
    "collapsed": false
   },
   "outputs": [
    {
     "data": {
      "image/png": "[encoded data removed]",
      "text/plain": [
       "<matplotlib.figure.Figure at 0x10c9a5fd0>"
      ]
     },
     "metadata": {},
     "output_type": "display_data"
    }
   ],
   "source": [
    "from sklearn.preprocessing import MinMaxScaler\n",
    "\n",
    "\n",
    "feature_1 = \"salary\"\n",
    "feature_2 = \"exercised_stock_options\"\n",
    "feature_3 = \"total_payments\"\n",
    "poi  = \"poi\"\n",
    "features_list = [poi, feature_1, feature_2, feature_3] #\n",
    "data = featureFormat(data_dict, features_list )\n",
    "poi, finance_features = targetFeatureSplit( scaler.fit_transform(data) )\n",
    "\n",
    "for f1, f2, _ in finance_features:\n",
    "    plt.scatter( f1, f2 )\n",
    "    plt.grid(color='r', linestyle='-')\n",
    "plt.show()"
   ]
  },
  {
   "cell_type": "code",
   "execution_count": 19,
   "metadata": {
    "collapsed": false
   },
   "outputs": [
    {
     "name": "stdout",
     "output_type": "stream",
     "text": [
      "Max value of salary is $1,111,258.00\n",
      "Min value of salary is $477.00      \n",
      "Max value of exercised_stock_options is $34,348,384.00\n",
      "Min value of exercised_stock_options is $3,285.00    \n"
     ]
    }
   ],
   "source": [
    "findMinMaxFeature('salary')\n",
    "findMinMaxFeature('exercised_stock_options')"
   ]
  },
  {
   "cell_type": "code",
   "execution_count": 22,
   "metadata": {
    "collapsed": false
   },
   "outputs": [
    {
     "name": "stdout",
     "output_type": "stream",
     "text": [
      "[[ 0.        ]\n",
      " [ 0.17962407]\n",
      " [ 1.        ]] [[ 0.        ]\n",
      " [ 0.02902059]\n",
      " [ 1.        ]]\n"
     ]
    }
   ],
   "source": [
    "### Quiz, what is the new feature of a slary of 200k, and an exercise stock option of $1M\n",
    "\n",
    "from sklearn.preprocessing import MinMaxScaler\n",
    "xSalary = numpy.array([[477.], [200000.], [1111258.00]])\n",
    "xExStockOptions = numpy.array([[3285.00], [1000000.], [34348384.00]])\n",
    "\n",
    "rescaled_xSalary = scaler.fit_transform(xSalary)\n",
    "rescaled_xExStockOptions = scaler.fit_transform(xExStockOptions)\n",
    "\n",
    "print rescaled_xSalary, rescaled_xExStockOptions"
   ]
  },
  {
   "cell_type": "code",
   "execution_count": null,
   "metadata": {
    "collapsed": true
   },
   "outputs": [],
   "source": []
  }
 ],
 "metadata": {
  "kernelspec": {
   "display_name": "Python 2",
   "language": "python",
   "name": "python2"
  },
  "language_info": {
   "codemirror_mode": {
    "name": "ipython",
    "version": 2
   },
   "file_extension": ".py",
   "mimetype": "text/x-python",
   "name": "python",
   "nbconvert_exporter": "python",
   "pygments_lexer": "ipython2",
   "version": "2.7.11"
  }
 },
 "nbformat": 4,
 "nbformat_minor": 0
}
