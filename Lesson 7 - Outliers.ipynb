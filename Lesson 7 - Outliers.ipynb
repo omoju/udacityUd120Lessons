{
 "cells": [
  {
   "cell_type": "markdown",
   "metadata": {},
   "source": [
    "## Lesson 7 - Outlier detection\n",
    "\n",
    "**Task:** \n",
    "This project has two parts. \n",
    "- 1) In the first part, you will run a regression, and identify and remove the 10% of points that have the largest residual errors. Then you’ll remove those outliers from the dataset and refit the regression, just like the strategy that Sebastian suggested in the lesson videos.\n",
    "\n",
    "- 2) In the second part, you will get acquainted with some of the outliers in the Enron finance data, and learn if/how to remove them."
   ]
  },
  {
   "cell_type": "code",
   "execution_count": 1,
   "metadata": {
    "collapsed": false
   },
   "outputs": [
    {
     "name": "stdout",
     "output_type": "stream",
     "text": [
      "Populating the interactive namespace from numpy and matplotlib\n"
     ]
    }
   ],
   "source": [
    "%pylab inline"
   ]
  },
  {
   "cell_type": "code",
   "execution_count": 4,
   "metadata": {
    "collapsed": false
   },
   "outputs": [],
   "source": [
    "import sys\n",
    "sys.path.append(\"../outliers/\")\n",
    "\n",
    "filePath = '/Users/omojumiller/mycode/MachineLearningNanoDegree/IntroToArtificialIntelligence/outliers/'\n",
    "import random\n",
    "import numpy\n",
    "import pickle\n",
    "import matplotlib.pyplot as pyplt\n",
    "import seaborn as sns\n",
    "\n",
    "\n",
    "from outlier_cleaner import outlierCleaner\n"
   ]
  },
  {
   "cell_type": "code",
   "execution_count": 5,
   "metadata": {
    "collapsed": false
   },
   "outputs": [],
   "source": [
    "### load up some practice data with outliers in it\n",
    "ages = pickle.load( open(filePath+'practice_outliers_ages.pkl', \"r\") )\n",
    "net_worths = pickle.load( open(filePath+\"practice_outliers_net_worths.pkl\", \"r\") )\n"
   ]
  },
  {
   "cell_type": "code",
   "execution_count": 6,
   "metadata": {
    "collapsed": true
   },
   "outputs": [],
   "source": [
    "### ages and net_worths need to be reshaped into 2D numpy arrays\n",
    "### second argument of reshape command is a tuple of integers: (n_rows, n_columns)\n",
    "### by convention, n_rows is the number of data points\n",
    "### and n_columns is the number of features\n",
    "\n",
    "ages = numpy.reshape( numpy.array(ages), (len(ages), 1))\n",
    "net_worths = numpy.reshape( numpy.array(net_worths), (len(net_worths), 1))\n",
    "\n",
    "from sklearn.cross_validation import train_test_split\n",
    "ages_train, ages_test, net_worths_train, net_worths_test = train_test_split(ages, \n",
    "                                                                    net_worths, test_size=0.1, random_state=42)\n"
   ]
  },
  {
   "cell_type": "code",
   "execution_count": 7,
   "metadata": {
    "collapsed": false
   },
   "outputs": [
    {
     "name": "stdout",
     "output_type": "stream",
     "text": [
      "slope of regression is 5.08\n",
      "intercepts of regression is 25.21\n"
     ]
    }
   ],
   "source": [
    "### fill in a regression here!  Name the regression object reg so that\n",
    "### the plotting code below works, and you can see what your regression looks like\n",
    "\n",
    "from sklearn import linear_model\n",
    "reg = linear_model.LinearRegression()\n",
    "\n",
    "reg.fit(ages_train, net_worths_train)\n",
    "print \"slope of regression is %.2f\" % reg.coef_\n",
    "print \"intercepts of regression is %.2f\" % reg.intercept_\n",
    "\n",
    "\n",
    "\n"
   ]
  },
  {
   "cell_type": "code",
   "execution_count": 8,
   "metadata": {
    "collapsed": false
   },
   "outputs": [
    {
     "name": "stdout",
     "output_type": "stream",
     "text": [
      "\n",
      " ********stats on dataset********\n",
      "\n",
      "r-squared score on testing data:  0.878262470366\n",
      "r-squared score on training data:  0.489872596175\n"
     ]
    }
   ],
   "source": [
    "print \"\\n ********stats on dataset********\\n\"\n",
    "print \"r-squared score on testing data: \", reg.score(ages_test, net_worths_test)\n",
    "print \"r-squared score on training data: \", reg.score(ages_train, net_worths_train)"
   ]
  },
  {
   "cell_type": "code",
   "execution_count": 9,
   "metadata": {
    "collapsed": false
   },
   "outputs": [
    {
     "data": {
      "image/png": "[encoded data removed]",
      "text/plain": [
       "<matplotlib.figure.Figure at 0x1145adad0>"
      ]
     },
     "metadata": {},
     "output_type": "display_data"
    }
   ],
   "source": [
    "\n",
    "pyplt.clf()\n",
    "pyplt.scatter(ages_train, net_worths_train, color=\"b\", label=\"train data\")\n",
    "pyplt.scatter(ages_test, net_worths_test, color=\"r\", label=\"test data\")\n",
    "pyplt.plot(ages_test, reg.predict(ages_test), color=\"black\")\n",
    "pyplt.legend(loc='upper center', shadow=True, fontsize='x-large')\n",
    "pyplt.xlabel(\"ages\", fontsize=14)\n",
    "pyplt.ylabel(\"net worths\", fontsize=14)\n",
    "pyplt.show()\n",
    "\n"
   ]
  },
  {
   "cell_type": "code",
   "execution_count": null,
   "metadata": {
    "collapsed": true
   },
   "outputs": [],
   "source": []
  }
 ],
 "metadata": {
  "kernelspec": {
   "display_name": "Python 2",
   "language": "python",
   "name": "python2"
  },
  "language_info": {
   "codemirror_mode": {
    "name": "ipython",
    "version": 2
   },
   "file_extension": ".py",
   "mimetype": "text/x-python",
   "name": "python",
   "nbconvert_exporter": "python",
   "pygments_lexer": "ipython2",
   "version": "2.7.11"
  }
 },
 "nbformat": 4,
 "nbformat_minor": 0
}
